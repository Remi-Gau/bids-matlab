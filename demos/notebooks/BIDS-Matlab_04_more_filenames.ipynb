{
 "cells": [
  {
   "cell_type": "markdown",
   "metadata": {},
   "source": [
    "# Working with filenames\n",
    "\n",
    "This demo shows how to use bids-matlab\n",
    "to create and edit file BIDS filenames.\n",
    "\n",
    "`bids.File` is a class that helps you work with BIDS files:\n",
    "\n",
    "- generate valid BIDS or BIDS-like filenames\n",
    "- parse existing filenames\n",
    "- edit those filenames\n",
    "- rename files\n",
    "- access that file metadata\n",
    "\n",
    "(C) Copyright 2021 BIDS-MATLAB developers"
   ]
  },
  {
   "cell_type": "code",
   "execution_count": null,
   "metadata": {},
   "outputs": [],
   "source": [
    "add_bids_matlab_to_path();"
   ]
  },
  {
   "cell_type": "markdown",
   "metadata": {},
   "source": [
    "## Parsing filenames"
   ]
  },
  {
   "cell_type": "code",
   "execution_count": null,
   "metadata": {
    "vscode": {
     "languageId": "plaintext"
    }
   },
   "outputs": [],
   "source": [
    "bf = bids.File('sub-01_ses-02_task-face_run-01_bold.nii.gz');\n",
    "\n",
    "disp(bf.suffix);\n",
    "disp(bf.entities);\n",
    "disp(bf.extension);"
   ]
  },
  {
   "cell_type": "markdown",
   "metadata": {},
   "source": [
    "## Changing parts of the filename"
   ]
  },
  {
   "cell_type": "code",
   "execution_count": null,
   "metadata": {
    "vscode": {
     "languageId": "plaintext"
    }
   },
   "outputs": [],
   "source": [
    "bf = bids.File('sub-01_ses-02_task-face_run-01_bold.nii.gz');\n",
    "bf.entities.sub = '02';\n",
    "\n",
    "disp(bf.filename);"
   ]
  },
  {
   "cell_type": "markdown",
   "metadata": {},
   "source": [
    "## Removing part of the name"
   ]
  },
  {
   "cell_type": "code",
   "execution_count": null,
   "metadata": {
    "vscode": {
     "languageId": "plaintext"
    }
   },
   "outputs": [],
   "source": [
    "bf = bids.File('sub-01_ses-02_task-face_run-01_bold.nii.gz');\n",
    "bf.entities.ses = '';\n",
    "\n",
    "disp(bf.filename);"
   ]
  },
  {
   "cell_type": "markdown",
   "metadata": {},
   "source": [
    "## Adding things to the name\n",
    "\n",
    "Adding a new entity in a file name can be annoying as entities\n",
    "are supposed to follow a very specific order.\n",
    "Luckily can always reorder things for you."
   ]
  },
  {
   "cell_type": "code",
   "execution_count": null,
   "metadata": {
    "vscode": {
     "languageId": "plaintext"
    }
   },
   "outputs": [],
   "source": [
    "bf = bids.File('sub-01_task-face_run-01_bold.nii.gz');\n",
    "bf.entities.ses = '02';\n",
    "\n",
    "% oops \"ses-02\" should be at the beginning\n",
    "disp(bf.filename);\n",
    "\n",
    "% let's reorder things\n",
    "bf = bf.reorder_entities();\n",
    "\n",
    "% fixed\n",
    "disp(bf.filename);\n",
    "\n",
    "% note this also works with the derivatives entities of BIDS\n",
    "bf.entities.desc = 'mean';\n",
    "bf.entities.space = 'individual';\n",
    "bf.entities.hemi = 'L';\n",
    "\n",
    "bf = bf.reorder_entities();\n",
    "\n",
    "disp(bf.filename);"
   ]
  },
  {
   "cell_type": "markdown",
   "metadata": {},
   "source": [
    "## Generating a filename from scratch"
   ]
  },
  {
   "cell_type": "code",
   "execution_count": null,
   "metadata": {
    "vscode": {
     "languageId": "plaintext"
    }
   },
   "outputs": [],
   "source": [
    "% define the specification of the name to create\n",
    "spec = struct('ext', '.eeg', ...\n",
    "              'suffix', 'eeg', ...\n",
    "              'entities', struct('task', 'lineCrossing', ...\n",
    "                                 'run', '02', ...\n",
    "                                 'sub', '01'));\n",
    "\n",
    "% by default the entities are ordered\n",
    "% in the way you'entered them\n",
    "bf = bids.File(spec);\n",
    "disp(bf.filename);\n",
    "\n",
    "% but you can use the BIDS schema\n",
    "% to make sure things are ordered the right way\n",
    "bf = bids.File(spec, 'use_schema', true);\n",
    "disp(bf.filename);"
   ]
  },
  {
   "cell_type": "markdown",
   "metadata": {},
   "source": [
    "## Checking for valid BIDS filename"
   ]
  },
  {
   "cell_type": "code",
   "execution_count": null,
   "metadata": {
    "vscode": {
     "languageId": "plaintext"
    }
   },
   "outputs": [],
   "source": [
    "% if we forget the required entity \"task\" for this eeg file\n",
    "spec = struct('ext', '.eeg', ...\n",
    "              'suffix', 'eeg', ...\n",
    "              'entities', struct('run', '02', ...\n",
    "                                 'sub', '01'));\n",
    "\n",
    "% using the verbose flag will throw a warning\n",
    "bids.File(spec, 'use_schema', true, 'verbose', true);\n",
    "\n",
    "% using the tolerant flag will throw an error\n",
    "try\n",
    "  bids.File(spec, 'use_schema', true, 'tolerant', false);\n",
    "catch ME\n",
    "  disp(ME.message);\n",
    "end"
   ]
  },
  {
   "cell_type": "markdown",
   "metadata": {
    "vscode": {
     "languageId": "plaintext"
    }
   },
   "source": [
    "## Renaming existing files"
   ]
  },
  {
   "cell_type": "code",
   "execution_count": null,
   "metadata": {
    "vscode": {
     "languageId": "plaintext"
    }
   },
   "outputs": [],
   "source": [
    "% let's create a dummy file to work with\n",
    "% by calling the linux \"touch\" command\n",
    "system('touch sub-01_ses-02_task-face_run-01_bold.nii.gz');\n",
    "\n",
    "input_file = fullfile(pwd, 'sub-01_ses-02_task-face_run-01_bold.nii.gz');\n",
    "\n",
    "% let's change the filename\n",
    "bf = bids.File(input_file);\n",
    "bf.entities.sub = '02';\n",
    "bf.entities.ses = '';\n",
    "bf.entities.run = '';\n",
    "\n",
    "% use the rename method to see how the file WOULD be renamed\n",
    "bf.rename('verbose', true);\n",
    "\n",
    "% use \"dry_run\" false to actually rename the file\n",
    "bf.rename('verbose', true, ...\n",
    "          'dry_run', false);\n",
    "\n",
    "% you may need to use the 'force' parameter\n",
    "% if you want to overwrite existing files\n",
    "%\n",
    "% bf.rename('verbose', true, ...\n",
    "%           'dry_run', false, ...\n",
    "%           'force', true);\n",
    "\n",
    "% let's add a test to make sure the expected file exist\n",
    "expected_file = fullfile(pwd, 'sub-02_task-face_bold.nii.gz');\n",
    "assert(exist(expected_file, 'file') == 2);\n",
    "\n",
    "% we clean up the mess we did\n",
    "delete(expected_file);"
   ]
  },
  {
   "cell_type": "markdown",
   "metadata": {},
   "source": [
    "## Renaming existing files with specification"
   ]
  },
  {
   "cell_type": "code",
   "execution_count": null,
   "metadata": {
    "vscode": {
     "languageId": "plaintext"
    }
   },
   "outputs": [],
   "source": [
    "% same as above but allows you to specify all the changes to apply\n",
    "% in a single \"spec\" structure\n",
    "\n",
    "system('touch sub-01_ses-02_task-face_run-01_bold.nii.gz');\n",
    "input_file = fullfile(pwd, 'sub-01_ses-02_task-face_run-01_bold.nii.gz');\n",
    "\n",
    "bf = bids.File(input_file);\n",
    "\n",
    "spec = struct('entities', struct('desc', 'mean', ...\n",
    "                                 'ses', '', ...\n",
    "                                 'run', ''));\n",
    "\n",
    "bf.rename('spec', spec, ...\n",
    "          'verbose', true, ...\n",
    "          'dry_run', false);\n",
    "\n",
    "expected_file = fullfile(pwd, 'sub-01_task-face_desc-mean_bold.nii.gz');\n",
    "assert(exist(expected_file, 'file') == 2);\n",
    "\n",
    "delete('*.nii.gz');"
   ]
  },
  {
   "cell_type": "markdown",
   "metadata": {},
   "source": [
    "## Accessing metadata"
   ]
  },
  {
   "cell_type": "code",
   "execution_count": null,
   "metadata": {
    "vscode": {
     "languageId": "plaintext"
    }
   },
   "outputs": [],
   "source": [
    "% creating dummy data\n",
    "% the 'touch' command will only work on linux and macos\n",
    "system('touch sub-01_ses-02_task-face_run-01_bold.nii.gz');\n",
    "\n",
    "% creating dummy metadata\n",
    "bids.util.jsonencode('sub-01_ses-02_task-face_run-01_bold.json', ...\n",
    "                     struct('TaskName', 'face', ...\n",
    "                            'RepetitionTime', 1.5));\n",
    "% access metadata\n",
    "input_file = fullfile(pwd, 'sub-01_ses-02_task-face_run-01_bold.nii.gz');\n",
    "\n",
    "bf = bids.File(input_file);\n",
    "\n",
    "disp(bf.metadata.TaskName);\n",
    "\n",
    "disp(bf.metadata.RepetitionTime);\n",
    "\n",
    "delete('*.nii.gz');\n",
    "delete('*.json');"
   ]
  }
 ],
 "metadata": {
  "kernelspec": {
   "display_name": "Octave",
   "language": "octave",
   "name": "octave"
  },
  "language_info": {
   "file_extension": ".m",
   "help_links": [
    {
     "text": "GNU Octave",
     "url": "https://www.gnu.org/software/octave/support.html"
    },
    {
     "text": "Octave Kernel",
     "url": "https://github.com/Calysto/octave_kernel"
    },
    {
     "text": "MetaKernel Magics",
     "url": "https://metakernel.readthedocs.io/en/latest/source/README.html"
    }
   ],
   "mimetype": "text/x-octave",
   "name": "octave",
   "version": "4.2.2"
  }
 },
 "nbformat": 4,
 "nbformat_minor": 4
}
