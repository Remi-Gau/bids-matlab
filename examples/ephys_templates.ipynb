{
 "cells": [
  {
   "cell_type": "markdown",
   "id": "638ed3cb-1007-4f80-b479-3f8a08d3acf0",
   "metadata": {},
   "source": [
    "# Creating ephys dataset templates\n"
   ]
  },
  {
   "cell_type": "code",
   "execution_count": 10,
   "id": "193949c3-4ade-401b-9d99-70ad64229a2d",
   "metadata": {},
   "outputs": [],
   "source": [
    "% add bids-matlab to path\n",
    "addpath(fullfile(pwd, '..'));\n",
    "warning off"
   ]
  },
  {
   "cell_type": "code",
   "execution_count": 15,
   "id": "3dfdeffc-d8c9-4ba4-87ba-9da7b21b5af4",
   "metadata": {},
   "outputs": [],
   "source": [
    "pth = fullfile(pwd, 'dummy_ds');\n",
    "\n",
    "task = 'reach';\n",
    "file_extension = '.nwb';\n",
    "samples = {'01'};\n",
    "runs = {'01'};\n",
    "\n",
    "folders.subjects = {'01'};\n",
    "folders.sessions = {'01'};"
   ]
  },
  {
   "cell_type": "code",
   "execution_count": 16,
   "id": "e20b1c8b-54d2-49be-8376-0de4be6c7eae",
   "metadata": {},
   "outputs": [],
   "source": [
    "bids.init(pth, 'folders', folders, 'is_derivative', false, 'is_datalad_ds', false)"
   ]
  },
  {
   "cell_type": "code",
   "execution_count": 17,
   "id": "a0959d95-dfcf-4c28-a45b-6f09afd616c3",
   "metadata": {
    "tags": []
   },
   "outputs": [],
   "source": [
    "ds_template_generator(pth, folders, samples, runs, file_extension, task)"
   ]
  },
  {
   "cell_type": "code",
   "execution_count": 18,
   "id": "1be884b2-5855-4597-9f7e-be39aff3e623",
   "metadata": {},
   "outputs": [
    {
     "name": "stdout",
     "output_type": "stream",
     "text": [
      "\u001b[01;34mdummy_ds\u001b[00m\n",
      "├── CHANGES\n",
      "├── dataset_description.json\n",
      "├── README\n",
      "└── \u001b[01;34msub-01\u001b[00m\n",
      "    └── \u001b[01;34mses-01\u001b[00m\n",
      "        └── \u001b[01;34mephys\u001b[00m\n",
      "            ├── sub-01_ses-01_sample-01_task-reach_run-01_channels.json\n",
      "            ├── sub-01_ses-01_sample-01_task-reach_run-01_channels.tsv\n",
      "            ├── sub-01_ses-01_sample-01_task-reach_run-01_contacts.json\n",
      "            ├── sub-01_ses-01_sample-01_task-reach_run-01_contacts.tsv\n",
      "            ├── sub-01_ses-01_sample-01_task-reach_run-01_ephys.json\n",
      "            ├── sub-01_ses-01_sample-01_task-reach_run-01_ephys.nwb\n",
      "            ├── sub-01_ses-01_sample-01_task-reach_run-01_events.json\n",
      "            ├── sub-01_ses-01_sample-01_task-reach_run-01_events.tsv\n",
      "            ├── sub-01_ses-01_sample-01_task-reach_run-01_probes.json\n",
      "            └── sub-01_ses-01_sample-01_task-reach_run-01_probes.tsv\n",
      "\n",
      "3 directories, 13 files\n",
      "\n"
     ]
    }
   ],
   "source": [
    "!tree dummy_ds"
   ]
  }
 ],
 "metadata": {
  "kernelspec": {
   "display_name": "Octave",
   "language": "octave",
   "name": "octave"
  },
  "language_info": {
   "file_extension": ".m",
   "help_links": [
    {
     "text": "GNU Octave",
     "url": "https://www.gnu.org/software/octave/support.html"
    },
    {
     "text": "Octave Kernel",
     "url": "https://github.com/Calysto/octave_kernel"
    },
    {
     "text": "MetaKernel Magics",
     "url": "https://metakernel.readthedocs.io/en/latest/source/README.html"
    }
   ],
   "mimetype": "text/x-octave",
   "name": "octave",
   "version": "4.2.2"
  }
 },
 "nbformat": 4,
 "nbformat_minor": 5
}
